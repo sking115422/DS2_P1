{
 "cells": [
  {
   "cell_type": "markdown",
   "id": "b02f9edf",
   "metadata": {},
   "source": [
    "## Importing Libraries"
   ]
  },
  {
   "cell_type": "code",
   "execution_count": null,
   "id": "26af715d",
   "metadata": {},
   "outputs": [],
   "source": [
    "import sys\n",
    "from sklearn import linear_model\n",
    "from sklearn.preprocessing import PolynomialFeatures\n",
    "from gplearn.genetic import SymbolicRegressor\n",
    "import seaborn as sns\n",
    "import matplotlib.pyplot as plt\n",
    "\n",
    "from Model_Parent import *\n",
    "from Model_Parent_2 import *"
   ]
  },
  {
   "cell_type": "markdown",
   "id": "b0282915",
   "metadata": {},
   "source": [
    "## Importing Data"
   ]
  },
  {
   "cell_type": "code",
   "execution_count": null,
   "id": "44f3caf1",
   "metadata": {},
   "outputs": [],
   "source": [
    "b_df = get_bike_sharing_df() # See method in Model_Parent"
   ]
  },
  {
   "cell_type": "code",
   "execution_count": null,
   "id": "1290a224",
   "metadata": {},
   "outputs": [],
   "source": [
    "b_df"
   ]
  },
  {
   "cell_type": "markdown",
   "id": "50559ca7",
   "metadata": {},
   "source": [
    "## Check Data"
   ]
  },
  {
   "cell_type": "code",
   "execution_count": null,
   "id": "7578dbfd",
   "metadata": {},
   "outputs": [],
   "source": [
    "# Check to make sure that no columns have perfect colinearity"
   ]
  },
  {
   "cell_type": "code",
   "execution_count": null,
   "id": "8b2c7fb0",
   "metadata": {},
   "outputs": [],
   "source": [
    "corr_mat = b_df.corr(method='pearson')\n",
    "sns.heatmap(corr_mat, cmap='vlag')"
   ]
  },
  {
   "cell_type": "code",
   "execution_count": null,
   "id": "959e357b",
   "metadata": {},
   "outputs": [],
   "source": [
    "# Drops the Casual and Registered rental count columns along with total rented bikes since they are essentially the same metric\n",
    "X = b_df.iloc[:, :-3]\n",
    "# We are trying to predict total bikes rented, not just casual or registered users\n",
    "y = b_df.iloc[:, -1]"
   ]
  },
  {
   "cell_type": "code",
   "execution_count": null,
   "id": "bf8043ad",
   "metadata": {},
   "outputs": [],
   "source": [
    "# Droping temp because it is perfectly correlated with atemp\n",
    "b_df.drop('temp', axis=1, inplace=True)"
   ]
  },
  {
   "cell_type": "markdown",
   "id": "ec85dd24",
   "metadata": {},
   "source": [
    "## Generating Models"
   ]
  },
  {
   "cell_type": "markdown",
   "id": "334d57a5",
   "metadata": {},
   "source": [
    "### Linear Regression"
   ]
  },
  {
   "cell_type": "code",
   "execution_count": null,
   "id": "d264f751",
   "metadata": {},
   "outputs": [],
   "source": [
    "model = linear_model.LinearRegression()"
   ]
  },
  {
   "cell_type": "code",
   "execution_count": null,
   "id": "60580200",
   "metadata": {
    "scrolled": false
   },
   "outputs": [],
   "source": [
    "forwardSelection(model, X, y)"
   ]
  },
  {
   "cell_type": "code",
   "execution_count": null,
   "id": "a56febe7",
   "metadata": {
    "scrolled": true
   },
   "outputs": [],
   "source": [
    "backwardSelection(model, X, y)"
   ]
  },
  {
   "cell_type": "code",
   "execution_count": null,
   "id": "1dfb1b55",
   "metadata": {},
   "outputs": [],
   "source": [
    "stepwiseSelection(model, X, y)"
   ]
  },
  {
   "cell_type": "markdown",
   "id": "86c5ee96",
   "metadata": {},
   "source": [
    "### Ridge Regression"
   ]
  },
  {
   "cell_type": "code",
   "execution_count": null,
   "id": "d8b49e69",
   "metadata": {},
   "outputs": [],
   "source": [
    "model = linear_model.Ridge()"
   ]
  },
  {
   "cell_type": "code",
   "execution_count": null,
   "id": "b47f3598",
   "metadata": {
    "scrolled": false
   },
   "outputs": [],
   "source": [
    "forwardSelection(model, X, y)"
   ]
  },
  {
   "cell_type": "code",
   "execution_count": null,
   "id": "e66d914e",
   "metadata": {
    "scrolled": true
   },
   "outputs": [],
   "source": [
    "backwardSelection(model, X, y)"
   ]
  },
  {
   "cell_type": "code",
   "execution_count": null,
   "id": "7b825c0e",
   "metadata": {},
   "outputs": [],
   "source": [
    "stepwiseSelection(model, X, y)"
   ]
  },
  {
   "cell_type": "markdown",
   "id": "45e8991c",
   "metadata": {},
   "source": [
    "### Lasso Regression"
   ]
  },
  {
   "cell_type": "code",
   "execution_count": null,
   "id": "7798e037",
   "metadata": {},
   "outputs": [],
   "source": [
    "model = linear_model.Lasso()"
   ]
  },
  {
   "cell_type": "code",
   "execution_count": null,
   "id": "7bde8dc5",
   "metadata": {
    "scrolled": false
   },
   "outputs": [],
   "source": [
    "forwardSelection(model, X, y)"
   ]
  },
  {
   "cell_type": "code",
   "execution_count": null,
   "id": "f944586f",
   "metadata": {
    "scrolled": true
   },
   "outputs": [],
   "source": [
    "backwardSelection(model, X, y)"
   ]
  },
  {
   "cell_type": "code",
   "execution_count": null,
   "id": "0be39f5c",
   "metadata": {},
   "outputs": [],
   "source": [
    "stepwiseSelection(model, X, y)"
   ]
  },
  {
   "cell_type": "markdown",
   "id": "6c84251f",
   "metadata": {},
   "source": [
    "### Symbolic Regression"
   ]
  },
  {
   "cell_type": "code",
   "execution_count": null,
   "id": "a8279b6f",
   "metadata": {},
   "outputs": [],
   "source": [
    "model = SymbolicRegressor()"
   ]
  },
  {
   "cell_type": "code",
   "execution_count": null,
   "id": "f12877dd",
   "metadata": {
    "scrolled": false
   },
   "outputs": [],
   "source": [
    "forwardSelection(model, X, y)"
   ]
  },
  {
   "cell_type": "code",
   "execution_count": null,
   "id": "0e27f41a",
   "metadata": {
    "scrolled": true
   },
   "outputs": [],
   "source": [
    "backwardSelection(model, X, y)"
   ]
  },
  {
   "cell_type": "code",
   "execution_count": null,
   "id": "20e51811",
   "metadata": {},
   "outputs": [],
   "source": [
    "stepwiseSelection(model, X, y)"
   ]
  },
  {
   "cell_type": "markdown",
   "id": "f245a113",
   "metadata": {},
   "source": [
    "### Quadratic Regression"
   ]
  },
  {
   "cell_type": "code",
   "execution_count": null,
   "id": "e518fb07",
   "metadata": {},
   "outputs": [],
   "source": [
    "quad_reg = PolynomialFeatures(degree=2)\n",
    "X_quad = quad_reg.fit_transform(X)\n",
    "X_quad = pd.DataFrame(X_quad, columns=quad_reg.get_feature_names())\n",
    "model = linear_model.LinearRegression()\n",
    "X_quad.apply(lambda col: col.reset_index(drop=True))\n",
    "X_quad = X_quad.drop(columns = [\"1\"])\n",
    "y_quad = y.reset_index(drop=True)\n",
    "X_quad"
   ]
  },
  {
   "cell_type": "code",
   "execution_count": null,
   "id": "64e09b2c",
   "metadata": {
    "scrolled": false
   },
   "outputs": [],
   "source": [
    "forwardSelection(model, X_quad, y_quad)"
   ]
  },
  {
   "cell_type": "code",
   "execution_count": null,
   "id": "9d3dc912",
   "metadata": {
    "scrolled": false
   },
   "outputs": [],
   "source": [
    "backwardSelection(model, X_quad, y_quad)"
   ]
  },
  {
   "cell_type": "code",
   "execution_count": null,
   "id": "abf5b646",
   "metadata": {
    "scrolled": true
   },
   "outputs": [],
   "source": [
    "stepwiseSelection(model, X_quad, y_quad)"
   ]
  },
  {
   "cell_type": "markdown",
   "id": "1909a592",
   "metadata": {},
   "source": [
    "### Cubic Regression"
   ]
  },
  {
   "cell_type": "code",
   "execution_count": null,
   "id": "2ce32a94",
   "metadata": {},
   "outputs": [],
   "source": [
    "cub_reg = PolynomialFeatures(degree=3)\n",
    "X_cub = cub_reg.fit_transform(X)\n",
    "X_cub = pd.DataFrame(X_cub, columns=cub_reg.get_feature_names())\n",
    "model = linear_model.LinearRegression()\n",
    "X_cub.apply(lambda col: col.reset_index(drop=True))\n",
    "X_cub = X_cub.drop(columns = [\"1\"])\n",
    "y_cub = y.reset_index(drop=True)\n",
    "X_cub"
   ]
  },
  {
   "cell_type": "code",
   "execution_count": null,
   "id": "267f1170",
   "metadata": {
    "scrolled": true
   },
   "outputs": [],
   "source": [
    "forwardSelection(model, X_quad, y_quad)"
   ]
  },
  {
   "cell_type": "code",
   "execution_count": null,
   "id": "ee61e0e8",
   "metadata": {
    "scrolled": true
   },
   "outputs": [],
   "source": [
    "backwardSelection(model, X_quad, y_quad)"
   ]
  },
  {
   "cell_type": "code",
   "execution_count": null,
   "id": "a36a2a67",
   "metadata": {
    "scrolled": true
   },
   "outputs": [],
   "source": [
    "stepwiseSelection(model, X_quad, y_quad)"
   ]
  }
 ],
 "metadata": {
  "kernelspec": {
   "display_name": "Python 3",
   "language": "python",
   "name": "python3"
  },
  "language_info": {
   "codemirror_mode": {
    "name": "ipython",
    "version": 3
   },
   "file_extension": ".py",
   "mimetype": "text/x-python",
   "name": "python",
   "nbconvert_exporter": "python",
   "pygments_lexer": "ipython3",
   "version": "3.9.7"
  }
 },
 "nbformat": 4,
 "nbformat_minor": 5
}
