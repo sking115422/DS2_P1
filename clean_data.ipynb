{
 "cells": [
  {
   "cell_type": "code",
   "execution_count": null,
   "metadata": {},
   "outputs": [],
   "source": [
    "import numpy as np\n",
    "import pandas as pd"
   ]
  },
  {
   "cell_type": "markdown",
   "metadata": {},
   "source": [
    "### AirQualityUCI Dataset"
   ]
  },
  {
   "cell_type": "code",
   "execution_count": null,
   "metadata": {},
   "outputs": [],
   "source": [
    "air_qual_data = pd.read_csv('./raw_data/AirQualityUCI_fixed.csv')"
   ]
  },
  {
   "cell_type": "code",
   "execution_count": null,
   "metadata": {},
   "outputs": [],
   "source": [
    "air_qual_data"
   ]
  },
  {
   "cell_type": "code",
   "execution_count": null,
   "metadata": {},
   "outputs": [],
   "source": [
    "air_qual_data.isnull().values.any()"
   ]
  },
  {
   "cell_type": "code",
   "execution_count": null,
   "metadata": {},
   "outputs": [],
   "source": [
    "# Calculating % of missing data for each feature\n",
    "# As per the data set info at https://archive.ics.uci.edu/ml/datasets/air+quality missing values are tagged with -200. \n",
    "\n",
    "total_rows = air_qual_data.shape[0]\n",
    "\n",
    "for each in range(0, air_qual_data.shape[1]):\n",
    "    print(each, air_qual_data.columns[each] + \":  \", (air_qual_data.iloc[:, each] == -200).sum() / total_rows)"
   ]
  },
  {
   "cell_type": "code",
   "execution_count": null,
   "metadata": {},
   "outputs": [],
   "source": [
    "# From above we can see that several feature have above 10% missing data so we will go ahead and discard those feature because they are not reliable enough to use for modeling. \n",
    "\n",
    "air_qual_data = air_qual_data.drop(air_qual_data.iloc[:, [2, 4, 7, 9]], axis=1)"
   ]
  },
  {
   "cell_type": "code",
   "execution_count": null,
   "metadata": {},
   "outputs": [],
   "source": [
    "# Now since the number of row for the remaining feature is fairly large we will just drop the rows that have -200\n",
    "\n",
    "air_qual_data = air_qual_data.replace([-200], np.nan)\n",
    "air_qual_data = air_qual_data.dropna()"
   ]
  },
  {
   "cell_type": "code",
   "execution_count": null,
   "metadata": {},
   "outputs": [],
   "source": [
    "# Checking to make sure all -200 values rows are removed\n",
    "\n",
    "total_rows = air_qual_data.shape[0]\n",
    "\n",
    "for each in range(0, air_qual_data.shape[1]):\n",
    "    print(each, air_qual_data.columns[each] + \":  \", (air_qual_data.iloc[:, each] == -200).sum() / total_rows)"
   ]
  },
  {
   "cell_type": "code",
   "execution_count": null,
   "metadata": {},
   "outputs": [],
   "source": [
    "# Checking to make sure all NaN values rows are removed\n",
    "\n",
    "total_rows = air_qual_data.shape[0]\n",
    "\n",
    "for each in range(0, air_qual_data.shape[1]):\n",
    "    print(each, air_qual_data.columns[each] + \":  \", (air_qual_data.iloc[:, each] == None).sum())"
   ]
  },
  {
   "cell_type": "code",
   "execution_count": null,
   "metadata": {},
   "outputs": [],
   "source": [
    "air_qual_data"
   ]
  },
  {
   "cell_type": "code",
   "execution_count": null,
   "metadata": {},
   "outputs": [],
   "source": [
    "# Output to .csv in cleaned_data directory\n",
    "\n",
    "air_qual_data.to_csv('./cleaned_data/AirQualityUCI_fixed_cleaned.csv')"
   ]
  },
  {
   "cell_type": "markdown",
   "metadata": {},
   "source": [
    "### AutoMPG Dataset"
   ]
  },
  {
   "cell_type": "code",
   "execution_count": null,
   "metadata": {},
   "outputs": [],
   "source": [
    "auto_mpg_data = pd.read_csv('./raw_data/auto-mpg_fixed.csv')"
   ]
  },
  {
   "cell_type": "code",
   "execution_count": null,
   "metadata": {},
   "outputs": [],
   "source": [
    "auto_mpg_data.isnull().values.any()"
   ]
  },
  {
   "cell_type": "code",
   "execution_count": null,
   "metadata": {},
   "outputs": [],
   "source": [
    "# Since I got the data set from the original website -> https://archive.ics.uci.edu/ml/datasets/auto+mpg data was in wrong format and had missing values\n",
    "# Following code fixes that"
   ]
  },
  {
   "cell_type": "code",
   "execution_count": null,
   "metadata": {},
   "outputs": [],
   "source": [
    "auto_mpg_data.drop(auto_mpg_data.loc[auto_mpg_data['horsepower']=='?'].index, inplace=True)"
   ]
  },
  {
   "cell_type": "code",
   "execution_count": null,
   "metadata": {},
   "outputs": [],
   "source": [
    "auto_mpg_data.drop(columns='car_name', inplace=True)"
   ]
  },
  {
   "cell_type": "code",
   "execution_count": null,
   "metadata": {},
   "outputs": [],
   "source": [
    "df1 = auto_mpg_data.pop('mpg')\n",
    "auto_mpg_data['mpg'] = df1"
   ]
  },
  {
   "cell_type": "code",
   "execution_count": null,
   "metadata": {},
   "outputs": [],
   "source": [
    "auto_mpg_data"
   ]
  },
  {
   "cell_type": "code",
   "execution_count": null,
   "metadata": {},
   "outputs": [],
   "source": [
    "auto_mpg_data.to_csv('./cleaned_data/auto_mpg_fixed_cleaned.csv')"
   ]
  },
  {
   "cell_type": "markdown",
   "metadata": {},
   "source": [
    "### forestfires Dataset"
   ]
  },
  {
   "cell_type": "code",
   "execution_count": null,
   "metadata": {},
   "outputs": [],
   "source": [
    "#forestfires dataset looks good to go as is"
   ]
  },
  {
   "cell_type": "code",
   "execution_count": null,
   "metadata": {},
   "outputs": [],
   "source": [
    "forest_fires_data = pd.read_csv('./raw_data/forestfires.csv')"
   ]
  },
  {
   "cell_type": "code",
   "execution_count": null,
   "metadata": {},
   "outputs": [],
   "source": [
    "forest_fires_data"
   ]
  },
  {
   "cell_type": "code",
   "execution_count": null,
   "metadata": {},
   "outputs": [],
   "source": [
    "forest_fires_data.isnull().values.any()"
   ]
  }
 ],
 "metadata": {
  "interpreter": {
   "hash": "8338625309694086bca43e95af1b4ba2228479321112d6e6d2d9c087c2893b51"
  },
  "kernelspec": {
   "display_name": "Python 3.9.7 64-bit ('base': conda)",
   "language": "python",
   "name": "python3"
  },
  "language_info": {
   "codemirror_mode": {
    "name": "ipython",
    "version": 3
   },
   "file_extension": ".py",
   "mimetype": "text/x-python",
   "name": "python",
   "nbconvert_exporter": "python",
   "pygments_lexer": "ipython3",
   "version": "3.9.7"
  },
  "orig_nbformat": 4
 },
 "nbformat": 4,
 "nbformat_minor": 2
}
